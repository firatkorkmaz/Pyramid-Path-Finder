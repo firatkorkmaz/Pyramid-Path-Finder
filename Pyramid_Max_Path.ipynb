{
 "cells": [
  {
   "cell_type": "code",
   "execution_count": 1,
   "id": "9c0202e6",
   "metadata": {},
   "outputs": [],
   "source": [
    "# Finding the Path of Non-Prime Values in a Pyramid-Shaped Integer Data from Top to Bottom with Maximum Sum #"
   ]
  },
  {
   "cell_type": "code",
   "execution_count": 2,
   "id": "82da8db7",
   "metadata": {
    "scrolled": false
   },
   "outputs": [
    {
     "name": "stdout",
     "output_type": "stream",
     "text": [
      "Filename of the Pyramid Data: input.txt\n",
      "\n",
      "215 \n",
      "193 124 \n",
      "117 237 442 \n",
      "218 935 347 235 \n",
      "320 804 522 417 345 \n",
      "229 601 723 835 133 124 \n",
      "248 202 277 433 207 263 257 \n",
      "359 464 504 528 516 716 871 182 \n",
      "461 441 426 656 863 560 380 171 923 \n",
      "381 348 573 533 447 632 387 176 975 449 \n",
      "223 711 445 645 245 543 931 532 937 541 444 \n",
      "330 131 333 928 377 733 017 778 839 168 197 197 \n",
      "131 171 522 137 217 224 291 413 528 520 227 229 928 \n",
      "223 626 034 683 839 053 627 310 713 999 629 817 410 121 \n",
      "924 622 911 233 325 139 721 218 253 223 107 233 230 124 233 \n",
      "-----------------------------------------------------------\n",
      "\n",
      "15 Elements of the Path with Maximum Sum = 8186: \n",
      "215 => 124 => 237 => 935 => 522 => 835 => 207 => 716 => 560 => 632 => 931 => 778 => 528 => 713 => 253\n"
     ]
    }
   ],
   "source": [
    "# Function to Detect Prime Numbers\n",
    "def isPrime(num):\n",
    "    if num <= 1:\n",
    "        return False                   # Not Prime\n",
    "\n",
    "    for i in range(2, num // 2 + 1):   # Checking Up to \"num // 2\" is Enough for Each num\n",
    "        if (num % i) == 0:\n",
    "            return False               # Not Prime\n",
    "\n",
    "    return True                        # Prime Number\n",
    "\n",
    "\n",
    "def main(filename=None):\n",
    "    if filename == None:\n",
    "        filename = input(\"Filename of the Pyramid Data: \").strip()\n",
    "\n",
    "    try:\n",
    "        file = open(filename, \"r\")\n",
    "    except:\n",
    "        print(f\"\\n{filename} File cannot Be Read!\")\n",
    "        return\n",
    "\n",
    "    pyNumbers = []        # Complete List of Rows for the Pyramid \n",
    "\n",
    "    print()\n",
    "    for line in file:\n",
    "        pyNumbers.append([int(x) for x in line.rstrip().split()])      # Getting the Rows\n",
    "        for i in pyNumbers[-1]: print(str(i).zfill(3), end=\" \")        # Printing the Rows\n",
    "        print()\n",
    "\n",
    "    file.close()\n",
    "\n",
    "    maxSum, maxPath = maxSumPath(pyNumbers, 0, 0)        # Calling the Recursive maxSumPath() Function\n",
    "    for i in range(len(line) - 1): print(\"-\", end=\"\")    # Drawing a Line After Printing the Pyramid \n",
    "    print(f\"\\n\\n{len(maxPath)} Elements of the Path with Maximum Sum = {maxSum}: \")\n",
    "    print(*maxPath[::-1], sep=\" => \")     # Printing the Elements of the Maximum Path with Separator: \"=>\"\n",
    "    if len(maxPath) == 0:\n",
    "        print(\"Prime Numbers Prevent Reaching the Bottom of the Pyramid, There is Not Any Path Available!\")\n",
    "\n",
    "\n",
    "def maxSumPath(pathList, i, j):\n",
    "    # If the Visited Number is Prime, the Way is Shut. Change Your Path!\n",
    "    if (isPrime(pathList[i][j])):\n",
    "        return -1, []\n",
    "\n",
    "    elif (i == len(pathList) - 1):           # If the Bottom is Reached and This Number is Not Prime\n",
    "        return pathList[i][j], [pathList[i][j]]            # Return the Values of the Current Number\n",
    "\n",
    "    leftValue, leftPath = maxSumPath(pathList, (i + 1), j)          # Collecting Values for leftPath\n",
    "    rightValue, rightPath = maxSumPath(pathList, (i + 1), (j + 1))  # Collecting Values for rightPath\n",
    "\n",
    "    # Checking Which Value is Greater and Not Prime\n",
    "    if (leftValue > rightValue and leftValue != -1):\n",
    "        leftValue += pathList[i][j]\n",
    "        leftPath.append(pathList[i][j])\n",
    "\n",
    "    elif (rightValue != -1):\n",
    "        rightValue += pathList[i][j]\n",
    "        rightPath.append(pathList[i][j])\n",
    "\n",
    "    #######################################\n",
    "\n",
    "    # Getting the Value of Non-Interrupted Path or the Greater Value If Both Paths Have the Same Length\n",
    "    if (len(leftPath) > len(rightPath) or len(leftPath) == len(rightPath) and leftValue > rightValue):\n",
    "        return leftValue, leftPath\n",
    "\n",
    "    else:\n",
    "        return rightValue, rightPath\n",
    "\n",
    "\n",
    "if __name__ == '__main__':\n",
    "    # filename = \"input.txt\"\n",
    "    # main(filename)\n",
    "    main()"
   ]
  },
  {
   "cell_type": "code",
   "execution_count": 3,
   "id": "b4049eb4",
   "metadata": {},
   "outputs": [
    {
     "name": "stdout",
     "output_type": "stream",
     "text": [
      "Depth of Pyramid Data: 15\n",
      "\n",
      "New Pyramid Data with Random Numbers:\n",
      "Depth: 15, File: \"random_pyramid.txt\"\n"
     ]
    }
   ],
   "source": [
    "# OPTIONAL: Pyramid-Shaped Integer Data Generator with Different Rows of Random Numbers Between 001 and 999\n",
    "# Re-Generate the File If the Main Program Gives 0-Element Path (Prime Numbers Prevent Reaching the Bottom)\n",
    "\n",
    "from random import *\n",
    "\n",
    "def generate_pyramid(depth, max_value):\n",
    "    content = \"\"                # String for the Whole File\n",
    "\n",
    "    for i in range(1, depth + 1):\n",
    "        line = \"\"               # String for Each Line\n",
    "\n",
    "        for j in range(i):\n",
    "            if j != 0:\n",
    "                line += \" \"     # Putting Space Between the Numbers\n",
    "            line += str(randint(1, max_value)).zfill(3)  # zfill(3): 1 >> 001 || 11 >> 011\n",
    "\n",
    "        content += line + '\\n'  # Adding Each Line to the Big Content String\n",
    "\n",
    "    return content              # Returning the Content of the File\n",
    "\n",
    "\n",
    "while True:\n",
    "    depth = input(\"Depth of Pyramid Data: \").strip()\n",
    "    if not depth.isdigit():\n",
    "        print(\"Please Enter An Integer!\\n\")\n",
    "        continue\n",
    "    else:\n",
    "        depth = int(depth)\n",
    "        break\n",
    "    \n",
    "filename = \"random_pyramid.txt\"\n",
    "max_value = 999                 # Numbers with Up to 3 Digits\n",
    "\n",
    "with open(filename, 'w') as file:\n",
    "    content = generate_pyramid(depth, max_value)\n",
    "    file.write(content)         # Writing the Randomly Generated Pyramid of Numbers to File\n",
    "    print(\"\\nNew Pyramid Data with Random Numbers:\")\n",
    "    print(f\"Depth: {depth}, File: \\\"random_pyramid.txt\\\"\")"
   ]
  },
  {
   "cell_type": "code",
   "execution_count": 4,
   "id": "1adc88f2",
   "metadata": {},
   "outputs": [
    {
     "name": "stdout",
     "output_type": "stream",
     "text": [
      "\n",
      "161 \n",
      "840 102 \n",
      "604 360 951 \n",
      "342 852 232 659 \n",
      "277 692 372 274 807 \n",
      "142 591 875 688 977 802 \n",
      "304 910 085 099 837 765 755 \n",
      "589 289 784 263 267 564 465 512 \n",
      "046 855 614 818 926 052 972 916 096 \n",
      "697 289 294 515 453 206 111 316 123 753 \n",
      "058 141 179 497 478 743 220 046 501 472 979 \n",
      "821 054 564 310 273 658 103 502 058 104 876 266 \n",
      "099 223 857 132 126 686 966 859 048 499 484 082 394 \n",
      "687 165 466 867 053 729 427 490 302 198 705 894 834 877 \n",
      "347 910 986 892 869 657 588 450 731 916 066 955 710 482 351 \n",
      "-----------------------------------------------------------\n",
      "\n",
      "15 Elements of the Path with Maximum Sum = 10090: \n",
      "161 => 840 => 604 => 852 => 692 => 591 => 910 => 784 => 818 => 515 => 478 => 658 => 966 => 490 => 731\n"
     ]
    }
   ],
   "source": [
    "# Running the Program Again with the Generated New Input File\n",
    "\n",
    "filename = \"random_pyramid.txt\"\n",
    "main(filename)"
   ]
  },
  {
   "cell_type": "code",
   "execution_count": 5,
   "id": "59c1f314",
   "metadata": {},
   "outputs": [],
   "source": [
    "# If the Path is Blocked with A Full Row of Prime Numbers, This Prevents Reaching the Bottom and the Sum Becomes -1"
   ]
  },
  {
   "cell_type": "code",
   "execution_count": 6,
   "id": "a6cdd01d",
   "metadata": {},
   "outputs": [
    {
     "name": "stdout",
     "output_type": "stream",
     "text": [
      "\n",
      "All the Paths are Blocked in: random_pyramid_blocked.txt\n",
      "\n",
      "161 \n",
      "613 647 \n",
      "604 360 951 \n",
      "342 852 232 659 \n",
      "277 692 372 274 807 \n",
      "142 591 875 688 977 802 \n",
      "304 910 085 099 837 765 755 \n",
      "589 289 784 263 267 564 465 512 \n",
      "046 855 614 818 926 052 972 916 096 \n",
      "697 289 294 515 453 206 111 316 123 753 \n",
      "058 141 179 497 478 743 220 046 501 472 979 \n",
      "821 054 564 310 273 658 103 502 058 104 876 266 \n",
      "099 223 857 132 126 686 966 859 048 499 484 082 394 \n",
      "687 165 466 867 053 729 427 490 302 198 705 894 834 877 \n",
      "347 910 986 892 869 657 588 450 731 916 066 955 710 482 351 \n",
      "-----------------------------------------------------------\n",
      "\n",
      "0 Elements of the Path with Maximum Sum = -1: \n",
      "\n",
      "Prime Numbers Prevent Reaching the Bottom of the Pyramid, There is Not Any Path Available!\n"
     ]
    }
   ],
   "source": [
    "# Let's Replace the Second Row with 2 Prime Numbers Which will Block All the Paths and See the Result\n",
    "\n",
    "import os\n",
    "import shutil\n",
    "\n",
    "if os.path.isfile('./random_pyramid.txt'):\n",
    "    shutil.copy('random_pyramid.txt', 'random_pyramid_blocked.txt')\n",
    "\n",
    "    # 2 Prime Numbers for the 2nd Row to Shut All the Ways to the Bottom\n",
    "    line_2 = \"613 647\"\n",
    "\n",
    "    filename = \"random_pyramid_blocked.txt\"\n",
    "    with open(filename, 'r+') as file:\n",
    "        file.seek(5)        # Going to the Head of the 2nd Line\n",
    "        file.write(line_2)  # Replace the Existing Row with \"613 647\"\n",
    "    \n",
    "    print(\"\\nAll the Paths are Blocked in: random_pyramid_blocked.txt\")\n",
    "    \n",
    "else:\n",
    "    print(\"\\nFile Not Found: random_pyramid.txt\")\n",
    "\n",
    "\n",
    "# Running the Program with the Modified Pyramid of Integers \n",
    "main(filename)"
   ]
  },
  {
   "cell_type": "code",
   "execution_count": 7,
   "id": "67b47a38",
   "metadata": {},
   "outputs": [],
   "source": [
    "# The 2nd Row Prevented Reaching the Bottom of the Pyramid, There is Not Any Path Right Now!"
   ]
  },
  {
   "cell_type": "code",
   "execution_count": null,
   "id": "c4fdbc8f",
   "metadata": {},
   "outputs": [],
   "source": []
  }
 ],
 "metadata": {
  "kernelspec": {
   "display_name": "Python 3 (ipykernel)",
   "language": "python",
   "name": "python3"
  },
  "language_info": {
   "codemirror_mode": {
    "name": "ipython",
    "version": 3
   },
   "file_extension": ".py",
   "mimetype": "text/x-python",
   "name": "python",
   "nbconvert_exporter": "python",
   "pygments_lexer": "ipython3",
   "version": "3.10.13"
  }
 },
 "nbformat": 4,
 "nbformat_minor": 5
}
